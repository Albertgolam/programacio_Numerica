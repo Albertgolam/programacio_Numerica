{
 "cells": [
  {
   "cell_type": "markdown",
   "id": "37329dff",
   "metadata": {},
   "source": [
    "# Pràctica amb programació numèrica"
   ]
  },
  {
   "cell_type": "code",
   "execution_count": 1,
   "id": "fe990b3e",
   "metadata": {},
   "outputs": [],
   "source": [
    "# Import numpy as np\n",
    "import numpy as np\n",
    "# Import numpy random to create random arrays\n",
    "from numpy import random"
   ]
  },
  {
   "cell_type": "markdown",
   "id": "521125e5",
   "metadata": {},
   "source": [
    "## Nivell 1\n",
    "\n",
    "### Exercici 1\n",
    "\n",
    "Crea una funció que donat un Array d’una dimensió, et faci un resum estadístic bàsic de les dades. Si detecta que l’array té més d’una dimensió, ha de mostrar un missatge d’error."
   ]
  },
  {
   "cell_type": "code",
   "execution_count": 2,
   "id": "352c6502",
   "metadata": {},
   "outputs": [],
   "source": [
    "def array_stats(array):\n",
    "    if array.ndim > 1:\n",
    "        print(\"The array should have no more than one dimension\")\n",
    "    else:\n",
    "        print(\"Data: {}\".format(array))\n",
    "        print(\"Num dimensions: {}\".format(array.ndim))\n",
    "        print(\"Shape: {}\".format(array.shape))\n",
    "        print(\"Num of items: {}\".format(len(array)))\n",
    "        print(\"Sum: {}\".format(array.sum()))\n",
    "        print(\"Mean : {}\".format(array.mean()))\n",
    "        print(\"Std Variation: {}\".format(array.std()))\n",
    "        print(\"Variance: {}\".format(array.var()))\n",
    "        print(\"Minimum value: {}\".format(array.min()))\n",
    "        print(\"Maximum value: {}\".format(array.max()))"
   ]
  },
  {
   "cell_type": "code",
   "execution_count": 3,
   "id": "e69bdb30",
   "metadata": {},
   "outputs": [
    {
     "name": "stdout",
     "output_type": "stream",
     "text": [
      "The array should have no more than one dimension\n"
     ]
    }
   ],
   "source": [
    "# Array of more than one dimension. The function shows an error message\n",
    "array_2d = np.array([[1,2], [3,4]])\n",
    "array_stats(array_2d)"
   ]
  },
  {
   "cell_type": "code",
   "execution_count": 4,
   "id": "fa1da8cf",
   "metadata": {},
   "outputs": [
    {
     "name": "stdout",
     "output_type": "stream",
     "text": [
      "Data: [48 18  7 29 14 34  8 42 49 29 43]\n",
      "Num dimensions: 1\n",
      "Shape: (11,)\n",
      "Num of items: 11\n",
      "Sum: 321\n",
      "Mean : 29.181818181818183\n",
      "Std Variation: 14.837410836482844\n",
      "Variance: 220.1487603305785\n",
      "Minimum value: 7\n",
      "Maximum value: 49\n"
     ]
    }
   ],
   "source": [
    "# Array of one dimension\n",
    "size = random.randint(10,20)\n",
    "array = random.randint(50, size=size)\n",
    "array_stats(array)"
   ]
  },
  {
   "cell_type": "markdown",
   "id": "b12b596d",
   "metadata": {},
   "source": [
    "### Exercici 2\n",
    "\n",
    "Crea una funció que et generi un quadrat NxN de nombres aleatoris entre el 0 i el 100."
   ]
  },
  {
   "cell_type": "code",
   "execution_count": 5,
   "id": "f5150674",
   "metadata": {},
   "outputs": [],
   "source": [
    "# Function to create a NxN array with random numbers between 0 and 100\n",
    "def array_creation(num_cols_rows):\n",
    "    array = np.random.randint(0, 100, size=(num_cols_rows, num_cols_rows))\n",
    "    return array"
   ]
  },
  {
   "cell_type": "code",
   "execution_count": 6,
   "id": "873356fe",
   "metadata": {},
   "outputs": [
    {
     "name": "stdout",
     "output_type": "stream",
     "text": [
      "[[25 14 64 35  3 74 24 30 77 81]\n",
      " [33 76 49 52 80 98 18 61 34  7]\n",
      " [92 45 66 40 47 19 13 78 74 23]\n",
      " [60  3  1 13 13 60 28 88 66 36]\n",
      " [20 68 60 85 64 30 85 36 51 45]\n",
      " [50 89  1 36 71  9 52 92 71 62]\n",
      " [97 44 29 38 23 46 81 62 86  9]\n",
      " [42 73 64 36 92 82 56 42  3 11]\n",
      " [61 46 41 35 60 80 93 17 10 14]\n",
      " [66 68 39 46 40 50 13 74 60 41]]\n"
     ]
    }
   ],
   "source": [
    "# Variable to store the number of rows and columns. It´s passed as argument to the function that creates the array\n",
    "rows_cols = 10\n",
    "arr = array_creation(rows_cols)\n",
    "print(arr)"
   ]
  },
  {
   "cell_type": "markdown",
   "id": "5b0aaa82",
   "metadata": {},
   "source": [
    "### Exercici 3\n",
    "\n",
    "Crea una funció que donada una taula de dues dimensions, et calculi els totals per fila i els totals per columna. "
   ]
  },
  {
   "cell_type": "code",
   "execution_count": 7,
   "id": "497b0eeb",
   "metadata": {},
   "outputs": [
    {
     "name": "stdout",
     "output_type": "stream",
     "text": [
      "[[49 39  8 56 23]\n",
      " [45 49  4 33 67]\n",
      " [81  5 94  2 26]\n",
      " [41 42 37 81 63]\n",
      " [94 10 43 30 80]]\n"
     ]
    }
   ],
   "source": [
    "new_array = np.random.randint(0, 100, size=(5, 5))\n",
    "print(new_array)"
   ]
  },
  {
   "cell_type": "code",
   "execution_count": 8,
   "id": "d74e78ff",
   "metadata": {},
   "outputs": [],
   "source": [
    "# Funtion that sums row and col sums. Returns a tuple (sum rows array, sum cols array)\n",
    "def sum_row_col(array):\n",
    "    sum_row = array.sum(axis=1)\n",
    "    sum_col = array.sum(axis=0)\n",
    "    return sum_row, sum_col"
   ]
  },
  {
   "cell_type": "code",
   "execution_count": 9,
   "id": "dbe91a40",
   "metadata": {},
   "outputs": [],
   "source": [
    "# Funtion to show the total sums\n",
    "def show_sums(row, col):\n",
    "    message = \"Total rows sum\\n==============\\n\"\n",
    "    for index, elem in enumerate(row):\n",
    "        message += \"Row {}: {}\\n\".format(index + 1, elem)\n",
    "    message += \"\\nTotal cols sum\\n==============\\n\"\n",
    "    for index, elem in enumerate(col):\n",
    "        message += \"Col {}: {}\\n\".format(index + 1, elem)\n",
    "    print(message)"
   ]
  },
  {
   "cell_type": "code",
   "execution_count": 10,
   "id": "fb260827",
   "metadata": {},
   "outputs": [
    {
     "name": "stdout",
     "output_type": "stream",
     "text": [
      "Total rows sum\n",
      "==============\n",
      "Row 1: 175\n",
      "Row 2: 198\n",
      "Row 3: 208\n",
      "Row 4: 264\n",
      "Row 5: 257\n",
      "\n",
      "Total cols sum\n",
      "==============\n",
      "Col 1: 310\n",
      "Col 2: 145\n",
      "Col 3: 186\n",
      "Col 4: 202\n",
      "Col 5: 259\n",
      "\n"
     ]
    }
   ],
   "source": [
    "# Unpack the tuple\n",
    "row, col = sum_row_col(new_array)\n",
    "# Call to show_sums function\n",
    "show_sums(row, col)"
   ]
  },
  {
   "cell_type": "markdown",
   "id": "49648cb1",
   "metadata": {},
   "source": [
    "### Exercici 4\n",
    "\n",
    "Implementa manualment una funció que calculi el coeficient de correlació. Informa’t-en sobre els seus usos i interpretació."
   ]
  },
  {
   "cell_type": "markdown",
   "id": "b79256ee",
   "metadata": {},
   "source": [
    "Correlation coefficient formulas are used to find how strong a relationship is between data. The formulas return a value between -1 and 1, where:\n",
    "\n",
    "* 1 indicates a strong positive relationship.\n",
    "* -1 indicates a strong negative relationship.\n",
    "* 0 indicates no lineal relation between the variables.\n",
    "\n",
    "The correlation coefficient formula that I'm going to use is this:\n",
    "\n",
    "$r=\\huge{\\frac{\\sum\\left[\\left(x_i-\\overline{x}\\right)\\left(y_i-\\overline{y}\\right)\\right]}{\\sqrt{\\mathrm{\\Sigma}\\left(x_i-\\overline{x}\\right)^2\\ \n",
    "\\ast\\ \\mathrm{\\Sigma}(y_i\\ -\\overline{y})^2}}}$"
   ]
  },
  {
   "cell_type": "markdown",
   "id": "f903e9b8",
   "metadata": {},
   "source": [
    "#### Example of a strong correlated data"
   ]
  },
  {
   "cell_type": "code",
   "execution_count": 11,
   "id": "9744fb44",
   "metadata": {},
   "outputs": [
    {
     "name": "stdout",
     "output_type": "stream",
     "text": [
      "X: [ 0.  2.  4.  6.  8. 10. 12. 14. 16. 18.]\n",
      "Y: [ 0.  4.  8. 12. 16. 20. 24. 28. 32. 36.]\n"
     ]
    }
   ],
   "source": [
    "# Create two arrays for the variables X and Y\n",
    "X = np.arange(0,20,2, dtype=float)\n",
    "Y = np.arange(0,40,4, dtype=float)\n",
    "print(\"X: {}\".format(X))\n",
    "print(\"Y: {}\".format(Y))"
   ]
  },
  {
   "cell_type": "markdown",
   "id": "eeb85be1",
   "metadata": {},
   "source": [
    "#### Calculate the mean of each variable\n",
    "\n",
    "$\\Large{\\overline{x}\\quad\\overline{y}}$"
   ]
  },
  {
   "cell_type": "code",
   "execution_count": 12,
   "id": "8a7fb09c",
   "metadata": {},
   "outputs": [
    {
     "name": "stdout",
     "output_type": "stream",
     "text": [
      "Mean X: 9.0\n",
      "Mean Y: 18.0\n"
     ]
    }
   ],
   "source": [
    "X_mean = X.mean()\n",
    "Y_mean = Y.mean()\n",
    "print(\"Mean X: {}\".format(X_mean))\n",
    "print(\"Mean Y: {}\".format(Y_mean))"
   ]
  },
  {
   "cell_type": "markdown",
   "id": "00813655",
   "metadata": {},
   "source": [
    "#### Substract the mean to every single variable\n",
    "$\\Large{\\left(x_i-\\overline{x}\\right)\\left(y_i-\\overline{y}\\right)}$"
   ]
  },
  {
   "cell_type": "code",
   "execution_count": 13,
   "id": "c32ffe77",
   "metadata": {},
   "outputs": [
    {
     "name": "stdout",
     "output_type": "stream",
     "text": [
      "X: [-9. -7. -5. -3. -1.  1.  3.  5.  7.  9.]\n",
      "Y: [-18. -14. -10.  -6.  -2.   2.   6.  10.  14.  18.]\n"
     ]
    }
   ],
   "source": [
    "X -= X_mean\n",
    "Y -= Y_mean\n",
    "print(\"X: {}\".format(X))\n",
    "print(\"Y: {}\".format(Y))"
   ]
  },
  {
   "cell_type": "markdown",
   "id": "50b4bf8c",
   "metadata": {},
   "source": [
    "#### Calculate the numerator of the equation\n",
    "\n",
    "$\\Large{\\sum\\left[\\left(x_i-\\overline{x}\\right)\\left(y_i-\\overline{y}\\right)\\right]}$"
   ]
  },
  {
   "cell_type": "code",
   "execution_count": 14,
   "id": "35c3d4d8",
   "metadata": {},
   "outputs": [
    {
     "name": "stdout",
     "output_type": "stream",
     "text": [
      "660.0\n"
     ]
    }
   ],
   "source": [
    "numerator = np.sum(X * Y)\n",
    "print(numerator)"
   ]
  },
  {
   "cell_type": "markdown",
   "id": "513856c4",
   "metadata": {},
   "source": [
    "#### Calculate de denominator\n",
    "$\\Large{\\sqrt{\\mathrm{\\Sigma}{(x_i\\ -\\ \\overline{x})}^2\\ \\ast\\ \\mathrm{\\Sigma}(y_i\\ -\\overline{y})^2}}$"
   ]
  },
  {
   "cell_type": "code",
   "execution_count": 15,
   "id": "ea6488e1",
   "metadata": {},
   "outputs": [
    {
     "name": "stdout",
     "output_type": "stream",
     "text": [
      "660.0\n"
     ]
    }
   ],
   "source": [
    "denominator = np.sqrt(np.sum(np.power(X, 2)) * np.sum(np.power(Y, 2)))\n",
    "print(denominator)"
   ]
  },
  {
   "cell_type": "markdown",
   "id": "216feee1",
   "metadata": {},
   "source": [
    "#### Calculate r value dividing the numerator by the denominator\n",
    "$r=\\Large{\\frac{\\sum\\left[\\left(x_i-\\overline{x}\\right)\\left(y_i-\\overline{y}\\right)\\right]}{\\sqrt{\\mathrm{\\Sigma}\\left(x_i-\\overline{x}\\right)^2\\ \n",
    "\\ast\\ \\mathrm{\\Sigma}(y_i\\ -\\overline{y})^2}}}$"
   ]
  },
  {
   "cell_type": "code",
   "execution_count": 16,
   "id": "0abc59d2",
   "metadata": {},
   "outputs": [
    {
     "name": "stdout",
     "output_type": "stream",
     "text": [
      "r value is 1.0. This indicates a strong positive relationship\n"
     ]
    }
   ],
   "source": [
    "r = numerator / denominator\n",
    "print(\"r value is {}. This indicates a strong positive relationship\".format(r))"
   ]
  },
  {
   "cell_type": "markdown",
   "id": "6801d2a1",
   "metadata": {},
   "source": [
    "***\n",
    "### Function to calculate the correlation coeficient\n",
    "\n",
    "Now I'm going to define a function to calculate the correlation coeficient and try it with random arrays"
   ]
  },
  {
   "cell_type": "code",
   "execution_count": 17,
   "id": "0f9141b1",
   "metadata": {},
   "outputs": [],
   "source": [
    "# The function takes two arrays (X,Y) and calculates r\n",
    "def correlation_coef(X, Y):\n",
    "    # mean of X and Y\n",
    "    X_mean = X.mean()\n",
    "    Y_mean = Y.mean()\n",
    "    \n",
    "    # Mean substraction\n",
    "    X -= X_mean\n",
    "    Y -= Y_mean\n",
    "    \n",
    "    # Numerator\n",
    "    numerator = np.sum(X * Y)\n",
    "    \n",
    "    # Denominator\n",
    "    denominator = np.sqrt(np.sum(np.power(X, 2)) * np.sum(np.power(Y, 2)))\n",
    "    \n",
    "    # Correlation coeficient\n",
    "    r = numerator / denominator\n",
    "    \n",
    "    return r    "
   ]
  },
  {
   "cell_type": "code",
   "execution_count": 18,
   "id": "8118294d",
   "metadata": {},
   "outputs": [
    {
     "name": "stdout",
     "output_type": "stream",
     "text": [
      "X: [0.83166116 0.35956173 0.19578202 0.06909524 0.33818721 0.54531264\n",
      " 0.4772176  0.99161181 0.03966059 0.98194371 0.18184938 0.00723653\n",
      " 0.56396932 0.57001204 0.96306508 0.15828444 0.61193495 0.85766875\n",
      " 0.04771002 0.61546741]\n",
      "\n",
      "Y: [0.72749359 0.66799313 0.66046168 0.83585033 0.04596374 0.12373894\n",
      " 0.65750609 0.09446775 0.03200114 0.68278674 0.59627281 0.49045244\n",
      " 0.61893717 0.24987564 0.10199735 0.55401938 0.72746388 0.73662214\n",
      " 0.29418033 0.41299316]\n",
      "\n",
      "r = -0.029264497661201153\n",
      "\n"
     ]
    }
   ],
   "source": [
    "# Create two arrays for the variables X and Y with random values\n",
    "X = np.random.rand(20)\n",
    "Y = np.random.rand(20)\n",
    "print(\"X: {}\\n\".format(X))\n",
    "print(\"Y: {}\\n\".format(Y))\n",
    "print(\"r = {}\\n\".format(correlation_coef(X,Y)))"
   ]
  },
  {
   "cell_type": "code",
   "execution_count": 19,
   "id": "3e7d3d15",
   "metadata": {},
   "outputs": [
    {
     "name": "stdout",
     "output_type": "stream",
     "text": [
      "X: [ 0.36687713  1.78525316  0.00393206  0.07970207 -1.24099192 -1.40613601\n",
      "  1.39188759  0.28920493  1.4063934   0.51026489  0.76986339 -0.7576108\n",
      " -1.0442752  -0.58515651  0.24104731 -1.31652444 -0.24383251 -0.94836443\n",
      " -0.08005872 -0.90060247]\n",
      "\n",
      "Y: [ 1.19868465 -0.20697547  0.15183626 -0.59381121 -0.44207993  0.0664527\n",
      " -0.7272723  -0.97736987  1.56469013 -1.27227554  0.47784536  0.70020085\n",
      " -0.36936567 -1.17724691  1.27877744  0.40187678  1.68100629  0.35361995\n",
      "  0.48644242 -0.83475242]\n",
      "\n",
      "r = 0.0949985712704152\n",
      "\n"
     ]
    }
   ],
   "source": [
    "# Create two arrays for the variables X and Y with random values\n",
    "X = np.random.normal(size=20)\n",
    "Y = np.random.normal(size=20)\n",
    "print(\"X: {}\\n\".format(X))\n",
    "print(\"Y: {}\\n\".format(Y))\n",
    "print(\"r = {}\\n\".format(correlation_coef(X,Y)))"
   ]
  },
  {
   "cell_type": "code",
   "execution_count": null,
   "id": "e400ae7d",
   "metadata": {},
   "outputs": [],
   "source": []
  }
 ],
 "metadata": {
  "kernelspec": {
   "display_name": "Python 3",
   "language": "python",
   "name": "python3"
  },
  "language_info": {
   "codemirror_mode": {
    "name": "ipython",
    "version": 3
   },
   "file_extension": ".py",
   "mimetype": "text/x-python",
   "name": "python",
   "nbconvert_exporter": "python",
   "pygments_lexer": "ipython3",
   "version": "3.8.8"
  },
  "latex_envs": {
   "LaTeX_envs_menu_present": true,
   "autoclose": false,
   "autocomplete": true,
   "bibliofile": "biblio.bib",
   "cite_by": "apalike",
   "current_citInitial": 1,
   "eqLabelWithNumbers": true,
   "eqNumInitial": 1,
   "hotkeys": {
    "equation": "Ctrl-E",
    "itemize": "Ctrl-I"
   },
   "labels_anchors": false,
   "latex_user_defs": false,
   "report_style_numbering": false,
   "user_envs_cfg": false
  }
 },
 "nbformat": 4,
 "nbformat_minor": 5
}
